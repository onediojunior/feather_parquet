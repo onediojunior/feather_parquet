{
  "nbformat": 4,
  "nbformat_minor": 0,
  "metadata": {
    "colab": {
      "name": "Feather_Parquet.ipynb",
      "provenance": []
    },
    "kernelspec": {
      "name": "python3",
      "display_name": "Python 3"
    },
    "language_info": {
      "name": "python"
    }
  },
  "cells": [
    {
      "cell_type": "markdown",
      "source": [
        "<center><img src=\"https://i.postimg.cc/bNRwWKhp/LOGO-FEATHER-PARQUET.png\" /></center>"
      ],
      "metadata": {
        "id": "g4m_oDDxUIAW"
      }
    },
    {
      "cell_type": "markdown",
      "source": [
        "## Autor: Onédio Siqueira SEABRA Junior\n",
        "## Linkedin : https://www.linkedin.com/in/onediojunior/"
      ],
      "metadata": {
        "id": "aB2Svz9xUQ5j"
      }
    },
    {
      "cell_type": "markdown",
      "source": [
        "# **&#9776; Preparação do Ambiente**\n",
        "---"
      ],
      "metadata": {
        "id": "DprgHaEv5Ykm"
      }
    },
    {
      "cell_type": "markdown",
      "source": [
        "Necessidade da instalação do pacote ***pyarrow***"
      ],
      "metadata": {
        "id": "HaKBm3uS8SxH"
      }
    },
    {
      "cell_type": "code",
      "source": [
        "# instalação da biblioteca pyarrow\n",
        "try:\n",
        "  !pip install pandas pyarrow\n",
        "  print(\"Biblioteca instalada!\")\n",
        "except:\n",
        "  print(\"Erro ao instalar biblioteca\")"
      ],
      "metadata": {
        "colab": {
          "base_uri": "https://localhost:8080/"
        },
        "id": "8oBAwx8F5dnh",
        "outputId": "5a104ac6-3a62-4656-b0c3-f2cfb8a13197"
      },
      "execution_count": 1,
      "outputs": [
        {
          "output_type": "stream",
          "name": "stdout",
          "text": [
            "Requirement already satisfied: pandas in /usr/local/lib/python3.7/dist-packages (1.3.5)\n",
            "Requirement already satisfied: pyarrow in /usr/local/lib/python3.7/dist-packages (6.0.1)\n",
            "Requirement already satisfied: python-dateutil>=2.7.3 in /usr/local/lib/python3.7/dist-packages (from pandas) (2.8.2)\n",
            "Requirement already satisfied: numpy>=1.17.3 in /usr/local/lib/python3.7/dist-packages (from pandas) (1.21.5)\n",
            "Requirement already satisfied: pytz>=2017.3 in /usr/local/lib/python3.7/dist-packages (from pandas) (2018.9)\n",
            "Requirement already satisfied: six>=1.5 in /usr/local/lib/python3.7/dist-packages (from python-dateutil>=2.7.3->pandas) (1.15.0)\n",
            "Biblioteca instalada!\n"
          ]
        }
      ]
    },
    {
      "cell_type": "code",
      "source": [
        "# carrega bibliotecas necessárias\n",
        "import pandas as pd\n",
        "import pyarrow\n",
        "import os"
      ],
      "metadata": {
        "id": "zzBNga7N59Ob"
      },
      "execution_count": 12,
      "outputs": []
    },
    {
      "cell_type": "markdown",
      "source": [
        ""
      ],
      "metadata": {
        "id": "EPSpbOKjVqLQ"
      }
    },
    {
      "cell_type": "code",
      "source": [
        "# montando o drive\n",
        "# montar drive do Google\n",
        "try:\n",
        "  drive.mount('/content/drive')\n",
        "  print(\"Drive montando com sucesso!\")\n",
        "except:\n",
        "  print(\"Problemas ao montar drive\")"
      ],
      "metadata": {
        "colab": {
          "base_uri": "https://localhost:8080/"
        },
        "id": "atTERE5BVbBV",
        "outputId": "736eb1f3-7f59-4fb2-b63e-9678c5c3c879"
      },
      "execution_count": 6,
      "outputs": [
        {
          "output_type": "stream",
          "name": "stdout",
          "text": [
            "Problemas ao montar drive\n"
          ]
        }
      ]
    },
    {
      "cell_type": "code",
      "source": [
        "# Stackoverflow.com\n",
        "\n",
        "def convert_bytes(num):\n",
        "  for x in ['bytes','KB','MB','GB','TB']:\n",
        "    if num < 1024.0:\n",
        "      return \"%3.1f %s\" % (num,x)\n",
        "    num /= 1024.0"
      ],
      "metadata": {
        "id": "tBLUa4o_cJMY"
      },
      "execution_count": 21,
      "outputs": []
    },
    {
      "cell_type": "markdown",
      "source": [
        "# **&#9776; Arquivo Utilizado para Download**\n",
        "---"
      ],
      "metadata": {
        "id": "t9bKrlINY93N"
      }
    },
    {
      "cell_type": "markdown",
      "source": [
        "- ***round count*** - https://github.com/onediojunior/desafiosI2A2"
      ],
      "metadata": {
        "id": "SId0fWNkZI4J"
      }
    },
    {
      "cell_type": "markdown",
      "source": [
        "# **&#9776; Arquivo XLSX**\n",
        "---"
      ],
      "metadata": {
        "id": "GvR14SMJ9mk1"
      }
    },
    {
      "cell_type": "markdown",
      "source": [
        "- Orientado a linha"
      ],
      "metadata": {
        "id": "NDV6MgRgUngH"
      }
    },
    {
      "cell_type": "code",
      "source": [
        "%%time\n",
        "\n",
        "#carregando o arquivo round count\n",
        "df_xlsx = pd.read_excel(\"/content/drive/MyDrive/Desafio_I2A2/readcounts.xlsx\")"
      ],
      "metadata": {
        "colab": {
          "base_uri": "https://localhost:8080/"
        },
        "id": "O5NSGvKfU9Kw",
        "outputId": "8257001b-cc20-4c4e-e59f-80fb43c5325e"
      },
      "execution_count": 7,
      "outputs": [
        {
          "output_type": "stream",
          "name": "stdout",
          "text": [
            "CPU times: user 52 s, sys: 81.2 ms, total: 52.1 s\n",
            "Wall time: 52.8 s\n"
          ]
        }
      ]
    },
    {
      "cell_type": "markdown",
      "source": [
        "Acima, temos o resultado do tempo para leitura de um arquivo na nuvem."
      ],
      "metadata": {
        "id": "xqdGErSMXgNa"
      }
    },
    {
      "cell_type": "code",
      "source": [
        "# imprimindo 3 amostras aleatórias\n",
        "df_xlsx.sample(3)"
      ],
      "metadata": {
        "colab": {
          "base_uri": "https://localhost:8080/",
          "height": 173
        },
        "id": "xnJkjD2QYKwP",
        "outputId": "1ededc1e-2a4f-49db-8fd0-59a65af515f3"
      },
      "execution_count": 9,
      "outputs": [
        {
          "output_type": "execute_result",
          "data": {
            "text/plain": [
              "            Unnamed: 0  H223  H224  H225  H226  H227  H228  H229  H230  H231  \\\n",
              "59826  ENSG00000276377     0     0     0     0     0     0     0     0     0   \n",
              "57170  ENSG00000273663     0     0     0     0     0     0     0     0     0   \n",
              "57438  ENSG00000273934     0     0     0     0     0     0     0     0     0   \n",
              "\n",
              "       ...  H261  H262  H263  H264  H265  H266  H267  H268  H269  H270  \n",
              "59826  ...     0     0     0     0     0     0     0     0     0     0  \n",
              "57170  ...     0     0     0     0     0     0     0     0     0     0  \n",
              "57438  ...     0     0     0     0     0     0     0     0     0     0  \n",
              "\n",
              "[3 rows x 49 columns]"
            ],
            "text/html": [
              "\n",
              "  <div id=\"df-accc1998-3526-4941-b892-a2e0ec91ce72\">\n",
              "    <div class=\"colab-df-container\">\n",
              "      <div>\n",
              "<style scoped>\n",
              "    .dataframe tbody tr th:only-of-type {\n",
              "        vertical-align: middle;\n",
              "    }\n",
              "\n",
              "    .dataframe tbody tr th {\n",
              "        vertical-align: top;\n",
              "    }\n",
              "\n",
              "    .dataframe thead th {\n",
              "        text-align: right;\n",
              "    }\n",
              "</style>\n",
              "<table border=\"1\" class=\"dataframe\">\n",
              "  <thead>\n",
              "    <tr style=\"text-align: right;\">\n",
              "      <th></th>\n",
              "      <th>Unnamed: 0</th>\n",
              "      <th>H223</th>\n",
              "      <th>H224</th>\n",
              "      <th>H225</th>\n",
              "      <th>H226</th>\n",
              "      <th>H227</th>\n",
              "      <th>H228</th>\n",
              "      <th>H229</th>\n",
              "      <th>H230</th>\n",
              "      <th>H231</th>\n",
              "      <th>...</th>\n",
              "      <th>H261</th>\n",
              "      <th>H262</th>\n",
              "      <th>H263</th>\n",
              "      <th>H264</th>\n",
              "      <th>H265</th>\n",
              "      <th>H266</th>\n",
              "      <th>H267</th>\n",
              "      <th>H268</th>\n",
              "      <th>H269</th>\n",
              "      <th>H270</th>\n",
              "    </tr>\n",
              "  </thead>\n",
              "  <tbody>\n",
              "    <tr>\n",
              "      <th>59826</th>\n",
              "      <td>ENSG00000276377</td>\n",
              "      <td>0</td>\n",
              "      <td>0</td>\n",
              "      <td>0</td>\n",
              "      <td>0</td>\n",
              "      <td>0</td>\n",
              "      <td>0</td>\n",
              "      <td>0</td>\n",
              "      <td>0</td>\n",
              "      <td>0</td>\n",
              "      <td>...</td>\n",
              "      <td>0</td>\n",
              "      <td>0</td>\n",
              "      <td>0</td>\n",
              "      <td>0</td>\n",
              "      <td>0</td>\n",
              "      <td>0</td>\n",
              "      <td>0</td>\n",
              "      <td>0</td>\n",
              "      <td>0</td>\n",
              "      <td>0</td>\n",
              "    </tr>\n",
              "    <tr>\n",
              "      <th>57170</th>\n",
              "      <td>ENSG00000273663</td>\n",
              "      <td>0</td>\n",
              "      <td>0</td>\n",
              "      <td>0</td>\n",
              "      <td>0</td>\n",
              "      <td>0</td>\n",
              "      <td>0</td>\n",
              "      <td>0</td>\n",
              "      <td>0</td>\n",
              "      <td>0</td>\n",
              "      <td>...</td>\n",
              "      <td>0</td>\n",
              "      <td>0</td>\n",
              "      <td>0</td>\n",
              "      <td>0</td>\n",
              "      <td>0</td>\n",
              "      <td>0</td>\n",
              "      <td>0</td>\n",
              "      <td>0</td>\n",
              "      <td>0</td>\n",
              "      <td>0</td>\n",
              "    </tr>\n",
              "    <tr>\n",
              "      <th>57438</th>\n",
              "      <td>ENSG00000273934</td>\n",
              "      <td>0</td>\n",
              "      <td>0</td>\n",
              "      <td>0</td>\n",
              "      <td>0</td>\n",
              "      <td>0</td>\n",
              "      <td>0</td>\n",
              "      <td>0</td>\n",
              "      <td>0</td>\n",
              "      <td>0</td>\n",
              "      <td>...</td>\n",
              "      <td>0</td>\n",
              "      <td>0</td>\n",
              "      <td>0</td>\n",
              "      <td>0</td>\n",
              "      <td>0</td>\n",
              "      <td>0</td>\n",
              "      <td>0</td>\n",
              "      <td>0</td>\n",
              "      <td>0</td>\n",
              "      <td>0</td>\n",
              "    </tr>\n",
              "  </tbody>\n",
              "</table>\n",
              "<p>3 rows × 49 columns</p>\n",
              "</div>\n",
              "      <button class=\"colab-df-convert\" onclick=\"convertToInteractive('df-accc1998-3526-4941-b892-a2e0ec91ce72')\"\n",
              "              title=\"Convert this dataframe to an interactive table.\"\n",
              "              style=\"display:none;\">\n",
              "        \n",
              "  <svg xmlns=\"http://www.w3.org/2000/svg\" height=\"24px\"viewBox=\"0 0 24 24\"\n",
              "       width=\"24px\">\n",
              "    <path d=\"M0 0h24v24H0V0z\" fill=\"none\"/>\n",
              "    <path d=\"M18.56 5.44l.94 2.06.94-2.06 2.06-.94-2.06-.94-.94-2.06-.94 2.06-2.06.94zm-11 1L8.5 8.5l.94-2.06 2.06-.94-2.06-.94L8.5 2.5l-.94 2.06-2.06.94zm10 10l.94 2.06.94-2.06 2.06-.94-2.06-.94-.94-2.06-.94 2.06-2.06.94z\"/><path d=\"M17.41 7.96l-1.37-1.37c-.4-.4-.92-.59-1.43-.59-.52 0-1.04.2-1.43.59L10.3 9.45l-7.72 7.72c-.78.78-.78 2.05 0 2.83L4 21.41c.39.39.9.59 1.41.59.51 0 1.02-.2 1.41-.59l7.78-7.78 2.81-2.81c.8-.78.8-2.07 0-2.86zM5.41 20L4 18.59l7.72-7.72 1.47 1.35L5.41 20z\"/>\n",
              "  </svg>\n",
              "      </button>\n",
              "      \n",
              "  <style>\n",
              "    .colab-df-container {\n",
              "      display:flex;\n",
              "      flex-wrap:wrap;\n",
              "      gap: 12px;\n",
              "    }\n",
              "\n",
              "    .colab-df-convert {\n",
              "      background-color: #E8F0FE;\n",
              "      border: none;\n",
              "      border-radius: 50%;\n",
              "      cursor: pointer;\n",
              "      display: none;\n",
              "      fill: #1967D2;\n",
              "      height: 32px;\n",
              "      padding: 0 0 0 0;\n",
              "      width: 32px;\n",
              "    }\n",
              "\n",
              "    .colab-df-convert:hover {\n",
              "      background-color: #E2EBFA;\n",
              "      box-shadow: 0px 1px 2px rgba(60, 64, 67, 0.3), 0px 1px 3px 1px rgba(60, 64, 67, 0.15);\n",
              "      fill: #174EA6;\n",
              "    }\n",
              "\n",
              "    [theme=dark] .colab-df-convert {\n",
              "      background-color: #3B4455;\n",
              "      fill: #D2E3FC;\n",
              "    }\n",
              "\n",
              "    [theme=dark] .colab-df-convert:hover {\n",
              "      background-color: #434B5C;\n",
              "      box-shadow: 0px 1px 3px 1px rgba(0, 0, 0, 0.15);\n",
              "      filter: drop-shadow(0px 1px 2px rgba(0, 0, 0, 0.3));\n",
              "      fill: #FFFFFF;\n",
              "    }\n",
              "  </style>\n",
              "\n",
              "      <script>\n",
              "        const buttonEl =\n",
              "          document.querySelector('#df-accc1998-3526-4941-b892-a2e0ec91ce72 button.colab-df-convert');\n",
              "        buttonEl.style.display =\n",
              "          google.colab.kernel.accessAllowed ? 'block' : 'none';\n",
              "\n",
              "        async function convertToInteractive(key) {\n",
              "          const element = document.querySelector('#df-accc1998-3526-4941-b892-a2e0ec91ce72');\n",
              "          const dataTable =\n",
              "            await google.colab.kernel.invokeFunction('convertToInteractive',\n",
              "                                                     [key], {});\n",
              "          if (!dataTable) return;\n",
              "\n",
              "          const docLinkHtml = 'Like what you see? Visit the ' +\n",
              "            '<a target=\"_blank\" href=https://colab.research.google.com/notebooks/data_table.ipynb>data table notebook</a>'\n",
              "            + ' to learn more about interactive tables.';\n",
              "          element.innerHTML = '';\n",
              "          dataTable['output_type'] = 'display_data';\n",
              "          await google.colab.output.renderOutput(dataTable, element);\n",
              "          const docLink = document.createElement('div');\n",
              "          docLink.innerHTML = docLinkHtml;\n",
              "          element.appendChild(docLink);\n",
              "        }\n",
              "      </script>\n",
              "    </div>\n",
              "  </div>\n",
              "  "
            ]
          },
          "metadata": {},
          "execution_count": 9
        }
      ]
    },
    {
      "cell_type": "markdown",
      "source": [
        "## **Tamanho do Arquivo XLXS**"
      ],
      "metadata": {
        "id": "mbVy_jUxdcRB"
      }
    },
    {
      "cell_type": "code",
      "source": [
        "xlxs_to_bytes = os.path.getsize('/content/drive/MyDrive/Desafio_I2A2/readcounts.xlsx')\n",
        "print(f\"Tamanho: {convert_bytes(xlxs_to_bytes)}\")"
      ],
      "metadata": {
        "colab": {
          "base_uri": "https://localhost:8080/"
        },
        "outputId": "ea5e2cbb-6d4d-4846-9736-8e1c20c0e823",
        "id": "dGjtuOAwdcRB"
      },
      "execution_count": 24,
      "outputs": [
        {
          "output_type": "stream",
          "name": "stdout",
          "text": [
            "Tamanho: 12.5 MB\n"
          ]
        }
      ]
    },
    {
      "cell_type": "markdown",
      "source": [
        "# **&#9776; Arquivo Feather**\n",
        "---"
      ],
      "metadata": {
        "id": "CBJ4fIWz4ze2"
      }
    },
    {
      "cell_type": "markdown",
      "source": [
        "- Implementação do formato Apache Arrow.\n",
        "- Armazenamento é orientado a colunas.\n",
        "- Armazena metadados.\n",
        "- Leitura e escrita em disco mais rápida.\n",
        "- funciona com o **PANDAS**."
      ],
      "metadata": {
        "id": "pzmz3eio46nw"
      }
    },
    {
      "cell_type": "markdown",
      "source": [
        "## **Página para Pesquisar**"
      ],
      "metadata": {
        "id": "RSXv71SegITK"
      }
    },
    {
      "cell_type": "markdown",
      "source": [
        "- https://pandas.pydata.org/docs/reference/api/pandas.DataFrame.to_feather.html\n",
        "- https://pandas.pydata.org/docs/reference/api/pandas.read_feather.html"
      ],
      "metadata": {
        "id": "6Ql-THSOgPzC"
      }
    },
    {
      "cell_type": "markdown",
      "source": [
        "## **Função to_feather**"
      ],
      "metadata": {
        "id": "WP54bbb59Tnm"
      }
    },
    {
      "cell_type": "markdown",
      "source": [
        "Com o arquivo já em memória, iremos gravá-lo com o padrão *feather* para testar o tempo de leitura do mesmo."
      ],
      "metadata": {
        "id": "nMjZYSjQXpU9"
      }
    },
    {
      "cell_type": "code",
      "source": [
        "# direciona a pasta desejada\n",
        "os.chdir(r\"/content/drive/MyDrive/Desafio_I2A2/\")"
      ],
      "metadata": {
        "id": "DS2nnLNPaXes"
      },
      "execution_count": 13,
      "outputs": []
    },
    {
      "cell_type": "code",
      "source": [
        "# transformando e gravando o arquivo com compressão lz4\n",
        "try:\n",
        "  df_xlsx.to_feather('readcount.feather', compression='lz4')\n",
        "  print(\"Arquivo transformado e gravado com sucesso!\")\n",
        "except:\n",
        "  print(\"Problemas ao gerar a transformação ou gravação!\")"
      ],
      "metadata": {
        "colab": {
          "base_uri": "https://localhost:8080/"
        },
        "id": "UdsJhqQx9XUK",
        "outputId": "e8c3f555-b8b7-4d1e-b05f-d47a068e8883"
      },
      "execution_count": 14,
      "outputs": [
        {
          "output_type": "stream",
          "name": "stdout",
          "text": [
            "Arquivo transformado e gravado com sucesso!\n"
          ]
        }
      ]
    },
    {
      "cell_type": "markdown",
      "source": [
        "## **Função read_feather**"
      ],
      "metadata": {
        "id": "XsQk8yyg87H3"
      }
    },
    {
      "cell_type": "code",
      "source": [
        "# aponta para a pasta desejada "
      ],
      "metadata": {
        "id": "FaO6zThoYXGC"
      },
      "execution_count": null,
      "outputs": []
    },
    {
      "cell_type": "code",
      "source": [
        "%%time\n",
        "# carregando o arquivo feather e medindo seu tempo de carregamento\n",
        "df_feather = pd.read_feather(\"/content/drive/MyDrive/Desafio_I2A2/readcount.feather\")"
      ],
      "metadata": {
        "colab": {
          "base_uri": "https://localhost:8080/"
        },
        "id": "KC0_I5AG7nqc",
        "outputId": "afc4d4c4-5db3-41cc-f25f-4e019021e491"
      },
      "execution_count": 15,
      "outputs": [
        {
          "output_type": "stream",
          "name": "stdout",
          "text": [
            "CPU times: user 58.7 ms, sys: 77.1 ms, total: 136 ms\n",
            "Wall time: 90 ms\n"
          ]
        }
      ]
    },
    {
      "cell_type": "markdown",
      "source": [
        "## **Performace do Arquivo Feather**"
      ],
      "metadata": {
        "id": "8OHxCxEXayWF"
      }
    },
    {
      "cell_type": "code",
      "source": [
        "print(f\"Performace = {(1 - (90/52800))*100} %\")"
      ],
      "metadata": {
        "colab": {
          "base_uri": "https://localhost:8080/"
        },
        "id": "lA67GEcGa8ei",
        "outputId": "894b7e5a-163d-49ed-ceaa-b90ddde6347c"
      },
      "execution_count": 20,
      "outputs": [
        {
          "output_type": "stream",
          "name": "stdout",
          "text": [
            "Performace = 99.82954545454545 %\n"
          ]
        }
      ]
    },
    {
      "cell_type": "markdown",
      "source": [
        "## **Tamanho do Arquivo Feather**"
      ],
      "metadata": {
        "id": "irAgo0lmcwlg"
      }
    },
    {
      "cell_type": "code",
      "source": [
        "feather_to_bytes = os.path.getsize('/content/drive/MyDrive/Desafio_I2A2/readcount.feather')\n",
        "print(f\"Tamanho: {convert_bytes(feather_to_bytes)}\")"
      ],
      "metadata": {
        "colab": {
          "base_uri": "https://localhost:8080/"
        },
        "id": "GJJO56TYc2Go",
        "outputId": "bc3ce8b1-028d-44fb-f8d6-409876f6ad8f"
      },
      "execution_count": 23,
      "outputs": [
        {
          "output_type": "stream",
          "name": "stdout",
          "text": [
            "Tamanho: 5.3 MB\n"
          ]
        }
      ]
    },
    {
      "cell_type": "markdown",
      "source": [
        "# **&#9776; Arquivo Parquet**\n",
        "---"
      ],
      "metadata": {
        "id": "Wgn4V5Pw6giP"
      }
    },
    {
      "cell_type": "markdown",
      "source": [
        "- Muito similar ao Feather\n",
        "- Armazenamento é orientado a colunas\n",
        "- Armazena metadados\n",
        "- Melhor para espaço em disco\n",
        "- Funciona com o **PANDAS**"
      ],
      "metadata": {
        "id": "Pvv0zcNL6giQ"
      }
    },
    {
      "cell_type": "markdown",
      "source": [
        "## **Função to_parquet**"
      ],
      "metadata": {
        "id": "Ih1MkjDzducf"
      }
    },
    {
      "cell_type": "code",
      "source": [
        "# transformando e gravando o arquivo com compressão lz4\n",
        "try:\n",
        "  df_xlsx.to_parquet('readcount.parquet', compression= 'gzip')\n",
        "  print(\"Arquivo transformado e gravado com sucesso!\")\n",
        "except:\n",
        "  print(\"Problemas ao gerar a transformação ou gravação!\")"
      ],
      "metadata": {
        "colab": {
          "base_uri": "https://localhost:8080/"
        },
        "id": "QYGV-0o7d1tM",
        "outputId": "35f5812f-e3c8-4fbd-80f0-09110ffd7e2c"
      },
      "execution_count": 29,
      "outputs": [
        {
          "output_type": "stream",
          "name": "stdout",
          "text": [
            "Arquivo transformado e gravado com sucesso!\n"
          ]
        }
      ]
    },
    {
      "cell_type": "markdown",
      "source": [
        "## **Função read_parquet**"
      ],
      "metadata": {
        "id": "l4UDnKb_d0zV"
      }
    },
    {
      "cell_type": "code",
      "source": [
        "%%time\n",
        "# carregando o arquivo feather e medindo seu tempo de carregamento\n",
        "df_parquet = pd.read_parquet(\"/content/drive/MyDrive/Desafio_I2A2/readcount.parquet\")"
      ],
      "metadata": {
        "colab": {
          "base_uri": "https://localhost:8080/"
        },
        "id": "_FFGPYe0du29",
        "outputId": "f16a17b7-f624-4af2-b880-44010cddf946"
      },
      "execution_count": 30,
      "outputs": [
        {
          "output_type": "stream",
          "name": "stdout",
          "text": [
            "CPU times: user 97.4 ms, sys: 59.4 ms, total: 157 ms\n",
            "Wall time: 103 ms\n"
          ]
        }
      ]
    },
    {
      "cell_type": "markdown",
      "source": [
        "O seu tempo para leitura foi maior que o arquivo Feather, porém bem abaixo do arquivo XLSX."
      ],
      "metadata": {
        "id": "q6DSo_tWe9V9"
      }
    },
    {
      "cell_type": "markdown",
      "source": [
        "## **Tamanho do Arquivo Parquet**"
      ],
      "metadata": {
        "id": "hvajXYlKd38Q"
      }
    },
    {
      "cell_type": "code",
      "source": [
        "parquet_to_bytes = os.path.getsize('/content/drive/MyDrive/Desafio_I2A2/readcount.parquet')\n",
        "print(f\"Tamanho: {convert_bytes(feather_to_bytes)}\")"
      ],
      "metadata": {
        "colab": {
          "base_uri": "https://localhost:8080/"
        },
        "outputId": "c7b5e536-b585-41be-e631-f3cf7294c935",
        "id": "pYEcdy1Od38R"
      },
      "execution_count": 31,
      "outputs": [
        {
          "output_type": "stream",
          "name": "stdout",
          "text": [
            "Tamanho: 5.3 MB\n"
          ]
        }
      ]
    },
    {
      "cell_type": "markdown",
      "source": [
        "Nesse caso, como podemos constatar não houve redução do seu tamanho com compressão ***gzip***."
      ],
      "metadata": {
        "id": "bV9pgH9yf1kV"
      }
    },
    {
      "cell_type": "markdown",
      "source": [
        "## **Página para Pesquisar**"
      ],
      "metadata": {
        "id": "v5d9UrqsgV0i"
      }
    },
    {
      "cell_type": "markdown",
      "source": [
        "- https://pandas.pydata.org/docs/reference/api/pandas.read_parquet.html\n",
        "- https://pandas.pydata.org/docs/reference/api/pandas.DataFrame.to_parquet.html"
      ],
      "metadata": {
        "id": "GITgwa8ngV0i"
      }
    },
    {
      "cell_type": "markdown",
      "source": [
        "&nbsp;"
      ],
      "metadata": {
        "id": "qWcsAg6ciLYK"
      }
    },
    {
      "cell_type": "markdown",
      "source": [
        "<center><img src=\"https://i.postimg.cc/xC6LYgh4/BOTTOM-QUOTE.png\" /></center>"
      ],
      "metadata": {
        "id": "hjNk5HzjiEqk"
      }
    }
  ]
}